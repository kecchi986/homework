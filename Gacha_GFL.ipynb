{
  "nbformat": 4,
  "nbformat_minor": 0,
  "metadata": {
    "colab": {
      "provenance": [],
      "authorship_tag": "ABX9TyPph3IEYkXprTrl90xwxqwO",
      "include_colab_link": true
    },
    "kernelspec": {
      "name": "python3",
      "display_name": "Python 3"
    },
    "language_info": {
      "name": "python"
    }
  },
  "cells": [
    {
      "cell_type": "markdown",
      "metadata": {
        "id": "view-in-github",
        "colab_type": "text"
      },
      "source": [
        "<a href=\"https://colab.research.google.com/github/kecchi986/homework/blob/main/Gacha_GFL.ipynb\" target=\"_parent\"><img src=\"https://colab.research.google.com/assets/colab-badge.svg\" alt=\"Open In Colab\"/></a>"
      ]
    },
    {
      "cell_type": "code",
      "execution_count": null,
      "metadata": {
        "colab": {
          "base_uri": "https://localhost:8080/"
        },
        "id": "9xvDRqXMHaoS",
        "outputId": "b4618051-172e-4255-ea66-5a44f2cb776a"
      },
      "outputs": [
        {
          "output_type": "stream",
          "name": "stdout",
          "text": [
            "Pull  | zi-1 (Sebelumnya)  | zi         | ui (Probabilitas)  | Hasil Gacha\n",
            "______________________________________________________________________\n",
            "1     | 50                 | 39         | 0.386              | N         \n",
            "2     | 39                 | 89         | 0.881              | N         \n",
            "3     | 89                 | 27         | 0.267              | N         \n",
            "4     | 27                 | 15         | 0.149              | R         \n",
            "5     | 15                 | 42         | 0.416              | N         \n",
            "6     | 42                 | 57         | 0.564              | N         \n",
            "7     | 57                 | 99         | 0.98               | N         \n",
            "8     | 99                 | 55         | 0.545              | N         \n",
            "9     | 55                 | 53         | 0.525              | N         \n",
            "10    | 53                 | 7          | 0.069              | R         \n",
            "11    | 7                  | 60         | 0.594              | N         \n",
            "12    | 60                 | 67         | 0.663              | N         \n",
            "13    | 67                 | 26         | 0.257              | R         \n",
            "14    | 26                 | 93         | 0.921              | N         \n",
            "15    | 93                 | 18         | 0.178              | R         \n",
            "16    | 18                 | 10         | 0.099              | R         \n",
            "17    | 10                 | 28         | 0.277              | N         \n",
            "18    | 28                 | 38         | 0.376              | N         \n",
            "19    | 38                 | 66         | 0.653              | N         \n",
            "20    | 66                 | 3          | 0.03               | SR        \n",
            "21    | 3                  | 69         | 0.683              | N         \n",
            "22    | 69                 | 72         | 0.713              | N         \n",
            "23    | 72                 | 40         | 0.396              | N         \n",
            "24    | 40                 | 11         | 0.109              | R         \n",
            "25    | 11                 | 51         | 0.505              | N         \n",
            "26    | 51                 | 62         | 0.614              | N         \n",
            "27    | 62                 | 12         | 0.119              | R         \n",
            "28    | 12                 | 74         | 0.733              | N         \n",
            "29    | 74                 | 86         | 0.851              | N         \n",
            "30    | 86                 | 59         | 0.584              | N         \n",
            "31    | 59                 | 44         | 0.436              | N         \n",
            "32    | 44                 | 2          | 0.02               | SR        \n",
            "33    | 2                  | 46         | 0.455              | N         \n",
            "34    | 46                 | 48         | 0.475              | N         \n",
            "35    | 48                 | 94         | 0.931              | N         \n",
            "36    | 94                 | 41         | 0.406              | N         \n",
            "37    | 41                 | 34         | 0.337              | N         \n",
            "38    | 34                 | 75         | 0.743              | N         \n",
            "39    | 75                 | 8          | 0.079              | R         \n",
            "40    | 8                  | 83         | 0.822              | N         \n",
            "41    | 83                 | 91         | 0.901              | N         \n",
            "42    | 91                 | 73         | 0.723              | N         \n",
            "43    | 73                 | 63         | 0.624              | N         \n",
            "44    | 63                 | 35         | 0.347              | N         \n",
            "45    | 35                 | 98         | 0.97               | N         \n",
            "46    | 98                 | 32         | 0.317              | N         \n",
            "47    | 32                 | 29         | 0.287              | N         \n",
            "48    | 29                 | 61         | 0.604              | N         \n",
            "49    | 61                 | 90         | 0.891              | N         \n",
            "50    | 90                 | 50         | 0.495              | N         \n"
          ]
        }
      ],
      "source": [
        "\n",
        "# Parameter LCG\n",
        "a = 23  # multiplier\n",
        "m = 101  # modulus\n",
        "z0 = 50  # seed\n",
        "n = 50  # jumlah pull (iterasi)\n",
        "\n",
        "# Hasil raritas berdasarkan probabilitas\n",
        "def gacha_result(random_value):\n",
        "    if random_value < 0.01:\n",
        "        return \"SSR\"  # Super Super Rare (1%)\n",
        "    elif random_value < 0.05:\n",
        "        return \"SR\"  # Super Rare (5%)\n",
        "    elif random_value < 0.26:\n",
        "        return \"R\"  # Rare (20%)\n",
        "    else:\n",
        "        return \"N\"  # Normal (74%)\n",
        "\n",
        "# Simulasi Gacha\n",
        "results = []\n",
        "z = z0\n",
        "for i in range(1, n + 1):\n",
        "    z_prev = z\n",
        "    z = (a * z) % m\n",
        "    u = z / m  # Bilangan acak seragam\n",
        "    character = gacha_result(u)  # Tentukan hasil gacha\n",
        "    results.append([i, z_prev, z, round(u, 3), character])\n",
        "\n",
        "# Cetak Hasil\n",
        "print(f\"{'Pull':<5} | {'zi-1 (Sebelumnya)':<18} | {'zi':<10} | {'ui (Probabilitas)':<18} | {'Hasil Gacha':<10}\")\n",
        "print(\"_\" * 70)\n",
        "for result in results:\n",
        "    print(f\"{result[0]:<5} | {result[1]:<18} | {result[2]:<10} | {result[3]:<18} | {result[4]:<10}\")"
      ]
    }
  ]
}